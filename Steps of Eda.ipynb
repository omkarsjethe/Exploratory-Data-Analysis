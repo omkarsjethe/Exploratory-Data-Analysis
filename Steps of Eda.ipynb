{
 "cells": [
  {
   "cell_type": "code",
   "execution_count": 1,
   "id": "a139ca32",
   "metadata": {},
   "outputs": [],
   "source": [
    "import pandas as pd\n",
    "import numpy as np\n",
    "import matplotlib.pyplot as plt\n",
    "import seaborn as sns\n",
    "import random\n",
    "from datetime import datetime, timedelta"
   ]
  },
  {
   "cell_type": "code",
   "execution_count": 2,
   "id": "5224a6f6",
   "metadata": {},
   "outputs": [
    {
     "data": {
      "text/html": [
       "<div>\n",
       "<style scoped>\n",
       "    .dataframe tbody tr th:only-of-type {\n",
       "        vertical-align: middle;\n",
       "    }\n",
       "\n",
       "    .dataframe tbody tr th {\n",
       "        vertical-align: top;\n",
       "    }\n",
       "\n",
       "    .dataframe thead th {\n",
       "        text-align: right;\n",
       "    }\n",
       "</style>\n",
       "<table border=\"1\" class=\"dataframe\">\n",
       "  <thead>\n",
       "    <tr style=\"text-align: right;\">\n",
       "      <th></th>\n",
       "      <th>Customer_ID</th>\n",
       "      <th>Age</th>\n",
       "      <th>Gender</th>\n",
       "      <th>Income</th>\n",
       "      <th>City</th>\n",
       "      <th>Purchase_Amount</th>\n",
       "      <th>Purchase_Date</th>\n",
       "      <th>Product_Category</th>\n",
       "      <th>Loyalty_Status</th>\n",
       "    </tr>\n",
       "  </thead>\n",
       "  <tbody>\n",
       "    <tr>\n",
       "      <th>0</th>\n",
       "      <td>1</td>\n",
       "      <td>56</td>\n",
       "      <td>Male</td>\n",
       "      <td>92082.0</td>\n",
       "      <td>Chicago</td>\n",
       "      <td>1446.07</td>\n",
       "      <td>2023-11-24</td>\n",
       "      <td>Clothing</td>\n",
       "      <td>Gold</td>\n",
       "    </tr>\n",
       "    <tr>\n",
       "      <th>1</th>\n",
       "      <td>2</td>\n",
       "      <td>69</td>\n",
       "      <td>Male</td>\n",
       "      <td>54754.0</td>\n",
       "      <td>Los Angeles</td>\n",
       "      <td>928.33</td>\n",
       "      <td>2023-02-27</td>\n",
       "      <td>Furniture</td>\n",
       "      <td>Gold</td>\n",
       "    </tr>\n",
       "    <tr>\n",
       "      <th>2</th>\n",
       "      <td>3</td>\n",
       "      <td>46</td>\n",
       "      <td>Male</td>\n",
       "      <td>NaN</td>\n",
       "      <td>New York</td>\n",
       "      <td>3765.54</td>\n",
       "      <td>2023-01-13</td>\n",
       "      <td>Electronics</td>\n",
       "      <td>Silver</td>\n",
       "    </tr>\n",
       "    <tr>\n",
       "      <th>3</th>\n",
       "      <td>4</td>\n",
       "      <td>32</td>\n",
       "      <td>Female</td>\n",
       "      <td>31411.0</td>\n",
       "      <td>Phoenix</td>\n",
       "      <td>4043.83</td>\n",
       "      <td>2023-05-21</td>\n",
       "      <td>Books</td>\n",
       "      <td>None</td>\n",
       "    </tr>\n",
       "    <tr>\n",
       "      <th>4</th>\n",
       "      <td>5</td>\n",
       "      <td>60</td>\n",
       "      <td>Female</td>\n",
       "      <td>22911.0</td>\n",
       "      <td>Houston</td>\n",
       "      <td>4953.00</td>\n",
       "      <td>2023-05-06</td>\n",
       "      <td>Electronics</td>\n",
       "      <td>Silver</td>\n",
       "    </tr>\n",
       "  </tbody>\n",
       "</table>\n",
       "</div>"
      ],
      "text/plain": [
       "   Customer_ID  Age  Gender   Income         City  Purchase_Amount  \\\n",
       "0            1   56    Male  92082.0      Chicago          1446.07   \n",
       "1            2   69    Male  54754.0  Los Angeles           928.33   \n",
       "2            3   46    Male      NaN     New York          3765.54   \n",
       "3            4   32  Female  31411.0      Phoenix          4043.83   \n",
       "4            5   60  Female  22911.0      Houston          4953.00   \n",
       "\n",
       "  Purchase_Date Product_Category Loyalty_Status  \n",
       "0    2023-11-24         Clothing           Gold  \n",
       "1    2023-02-27        Furniture           Gold  \n",
       "2    2023-01-13      Electronics         Silver  \n",
       "3    2023-05-21            Books           None  \n",
       "4    2023-05-06      Electronics         Silver  "
      ]
     },
     "execution_count": 2,
     "metadata": {},
     "output_type": "execute_result"
    }
   ],
   "source": [
    "# Set a seed for reproducibility\n",
    "random.seed(42)\n",
    "np.random.seed(42)\n",
    "\n",
    "# Generate fake data\n",
    "num_rows = 150\n",
    "\n",
    "data = {\n",
    "    'Customer_ID': range(1, num_rows + 1),\n",
    "    'Age': np.random.randint(18, 70, num_rows),\n",
    "    'Gender': np.random.choice(['Male', 'Female'], num_rows),\n",
    "    'Income': np.random.randint(20000, 120000, num_rows),\n",
    "    'City': np.random.choice(['New York', 'Los Angeles', 'Chicago', 'Houston', 'Phoenix'], num_rows),\n",
    "    'Purchase_Amount': np.random.uniform(50, 5000, num_rows).round(2),\n",
    "    'Purchase_Date': [datetime(2023, 1, 1) + timedelta(days=random.randint(0, 364)) for _ in range(num_rows)],\n",
    "    'Product_Category': np.random.choice(['Electronics', 'Clothing', 'Furniture', 'Toys', 'Books'], num_rows),\n",
    "    'Loyalty_Status': np.random.choice(['Gold', 'Silver', 'Bronze', 'None'], num_rows)\n",
    "}\n",
    "\n",
    "# Create the DataFrame\n",
    "df = pd.DataFrame(data)\n",
    "\n",
    "# Introduce some missing values\n",
    "missing_indices = np.random.choice(df.index, size=int(num_rows * 0.1), replace=False)\n",
    "df.loc[missing_indices, 'Income'] = np.nan\n",
    "missing_indices = np.random.choice(df.index, size=int(num_rows * 0.05), replace=False)\n",
    "df.loc[missing_indices, 'Purchase_Amount'] = np.nan\n",
    "\n",
    "# Display the first few rows of the DataFrame\n",
    "df.head()"
   ]
  },
  {
   "cell_type": "code",
   "execution_count": 3,
   "id": "eecc1b9f",
   "metadata": {},
   "outputs": [
    {
     "data": {
      "text/html": [
       "<div>\n",
       "<style scoped>\n",
       "    .dataframe tbody tr th:only-of-type {\n",
       "        vertical-align: middle;\n",
       "    }\n",
       "\n",
       "    .dataframe tbody tr th {\n",
       "        vertical-align: top;\n",
       "    }\n",
       "\n",
       "    .dataframe thead th {\n",
       "        text-align: right;\n",
       "    }\n",
       "</style>\n",
       "<table border=\"1\" class=\"dataframe\">\n",
       "  <thead>\n",
       "    <tr style=\"text-align: right;\">\n",
       "      <th></th>\n",
       "      <th>Customer_ID</th>\n",
       "      <th>Age</th>\n",
       "      <th>Gender</th>\n",
       "      <th>Income</th>\n",
       "      <th>City</th>\n",
       "      <th>Purchase_Amount</th>\n",
       "      <th>Purchase_Date</th>\n",
       "      <th>Product_Category</th>\n",
       "      <th>Loyalty_Status</th>\n",
       "    </tr>\n",
       "  </thead>\n",
       "  <tbody>\n",
       "    <tr>\n",
       "      <th>0</th>\n",
       "      <td>1</td>\n",
       "      <td>56</td>\n",
       "      <td>Male</td>\n",
       "      <td>92082.0</td>\n",
       "      <td>Chicago</td>\n",
       "      <td>1446.07</td>\n",
       "      <td>2023-11-24</td>\n",
       "      <td>Clothing</td>\n",
       "      <td>Gold</td>\n",
       "    </tr>\n",
       "    <tr>\n",
       "      <th>1</th>\n",
       "      <td>2</td>\n",
       "      <td>69</td>\n",
       "      <td>Male</td>\n",
       "      <td>54754.0</td>\n",
       "      <td>Los Angeles</td>\n",
       "      <td>928.33</td>\n",
       "      <td>2023-02-27</td>\n",
       "      <td>Furniture</td>\n",
       "      <td>Gold</td>\n",
       "    </tr>\n",
       "    <tr>\n",
       "      <th>2</th>\n",
       "      <td>3</td>\n",
       "      <td>46</td>\n",
       "      <td>Male</td>\n",
       "      <td>NaN</td>\n",
       "      <td>New York</td>\n",
       "      <td>3765.54</td>\n",
       "      <td>2023-01-13</td>\n",
       "      <td>Electronics</td>\n",
       "      <td>Silver</td>\n",
       "    </tr>\n",
       "    <tr>\n",
       "      <th>3</th>\n",
       "      <td>4</td>\n",
       "      <td>32</td>\n",
       "      <td>Female</td>\n",
       "      <td>31411.0</td>\n",
       "      <td>Phoenix</td>\n",
       "      <td>4043.83</td>\n",
       "      <td>2023-05-21</td>\n",
       "      <td>Books</td>\n",
       "      <td>None</td>\n",
       "    </tr>\n",
       "    <tr>\n",
       "      <th>4</th>\n",
       "      <td>5</td>\n",
       "      <td>60</td>\n",
       "      <td>Female</td>\n",
       "      <td>22911.0</td>\n",
       "      <td>Houston</td>\n",
       "      <td>4953.00</td>\n",
       "      <td>2023-05-06</td>\n",
       "      <td>Electronics</td>\n",
       "      <td>Silver</td>\n",
       "    </tr>\n",
       "  </tbody>\n",
       "</table>\n",
       "</div>"
      ],
      "text/plain": [
       "   Customer_ID  Age  Gender   Income         City  Purchase_Amount  \\\n",
       "0            1   56    Male  92082.0      Chicago          1446.07   \n",
       "1            2   69    Male  54754.0  Los Angeles           928.33   \n",
       "2            3   46    Male      NaN     New York          3765.54   \n",
       "3            4   32  Female  31411.0      Phoenix          4043.83   \n",
       "4            5   60  Female  22911.0      Houston          4953.00   \n",
       "\n",
       "  Purchase_Date Product_Category Loyalty_Status  \n",
       "0    2023-11-24         Clothing           Gold  \n",
       "1    2023-02-27        Furniture           Gold  \n",
       "2    2023-01-13      Electronics         Silver  \n",
       "3    2023-05-21            Books           None  \n",
       "4    2023-05-06      Electronics         Silver  "
      ]
     },
     "execution_count": 3,
     "metadata": {},
     "output_type": "execute_result"
    }
   ],
   "source": [
    "df.head()"
   ]
  },
  {
   "cell_type": "code",
   "execution_count": 4,
   "id": "19084874",
   "metadata": {},
   "outputs": [
    {
     "data": {
      "text/html": [
       "<div>\n",
       "<style scoped>\n",
       "    .dataframe tbody tr th:only-of-type {\n",
       "        vertical-align: middle;\n",
       "    }\n",
       "\n",
       "    .dataframe tbody tr th {\n",
       "        vertical-align: top;\n",
       "    }\n",
       "\n",
       "    .dataframe thead th {\n",
       "        text-align: right;\n",
       "    }\n",
       "</style>\n",
       "<table border=\"1\" class=\"dataframe\">\n",
       "  <thead>\n",
       "    <tr style=\"text-align: right;\">\n",
       "      <th></th>\n",
       "      <th>Customer_ID</th>\n",
       "      <th>Age</th>\n",
       "      <th>Gender</th>\n",
       "      <th>Income</th>\n",
       "      <th>City</th>\n",
       "      <th>Purchase_Amount</th>\n",
       "      <th>Purchase_Date</th>\n",
       "      <th>Product_Category</th>\n",
       "      <th>Loyalty_Status</th>\n",
       "    </tr>\n",
       "  </thead>\n",
       "  <tbody>\n",
       "    <tr>\n",
       "      <th>145</th>\n",
       "      <td>146</td>\n",
       "      <td>22</td>\n",
       "      <td>Male</td>\n",
       "      <td>98069.0</td>\n",
       "      <td>Phoenix</td>\n",
       "      <td>NaN</td>\n",
       "      <td>2023-08-28</td>\n",
       "      <td>Clothing</td>\n",
       "      <td>None</td>\n",
       "    </tr>\n",
       "    <tr>\n",
       "      <th>146</th>\n",
       "      <td>147</td>\n",
       "      <td>43</td>\n",
       "      <td>Female</td>\n",
       "      <td>NaN</td>\n",
       "      <td>Houston</td>\n",
       "      <td>4983.35</td>\n",
       "      <td>2023-09-28</td>\n",
       "      <td>Electronics</td>\n",
       "      <td>Silver</td>\n",
       "    </tr>\n",
       "    <tr>\n",
       "      <th>147</th>\n",
       "      <td>148</td>\n",
       "      <td>31</td>\n",
       "      <td>Female</td>\n",
       "      <td>NaN</td>\n",
       "      <td>New York</td>\n",
       "      <td>2799.39</td>\n",
       "      <td>2023-05-09</td>\n",
       "      <td>Toys</td>\n",
       "      <td>Bronze</td>\n",
       "    </tr>\n",
       "    <tr>\n",
       "      <th>148</th>\n",
       "      <td>149</td>\n",
       "      <td>56</td>\n",
       "      <td>Male</td>\n",
       "      <td>39190.0</td>\n",
       "      <td>Phoenix</td>\n",
       "      <td>3856.49</td>\n",
       "      <td>2023-10-11</td>\n",
       "      <td>Furniture</td>\n",
       "      <td>Gold</td>\n",
       "    </tr>\n",
       "    <tr>\n",
       "      <th>149</th>\n",
       "      <td>150</td>\n",
       "      <td>44</td>\n",
       "      <td>Female</td>\n",
       "      <td>69689.0</td>\n",
       "      <td>Phoenix</td>\n",
       "      <td>4726.59</td>\n",
       "      <td>2023-01-06</td>\n",
       "      <td>Clothing</td>\n",
       "      <td>Gold</td>\n",
       "    </tr>\n",
       "  </tbody>\n",
       "</table>\n",
       "</div>"
      ],
      "text/plain": [
       "     Customer_ID  Age  Gender   Income      City  Purchase_Amount  \\\n",
       "145          146   22    Male  98069.0   Phoenix              NaN   \n",
       "146          147   43  Female      NaN   Houston          4983.35   \n",
       "147          148   31  Female      NaN  New York          2799.39   \n",
       "148          149   56    Male  39190.0   Phoenix          3856.49   \n",
       "149          150   44  Female  69689.0   Phoenix          4726.59   \n",
       "\n",
       "    Purchase_Date Product_Category Loyalty_Status  \n",
       "145    2023-08-28         Clothing           None  \n",
       "146    2023-09-28      Electronics         Silver  \n",
       "147    2023-05-09             Toys         Bronze  \n",
       "148    2023-10-11        Furniture           Gold  \n",
       "149    2023-01-06         Clothing           Gold  "
      ]
     },
     "execution_count": 4,
     "metadata": {},
     "output_type": "execute_result"
    }
   ],
   "source": [
    "df.tail()"
   ]
  },
  {
   "cell_type": "code",
   "execution_count": 5,
   "id": "b8077fbf",
   "metadata": {},
   "outputs": [
    {
     "data": {
      "text/plain": [
       "(150, 9)"
      ]
     },
     "execution_count": 5,
     "metadata": {},
     "output_type": "execute_result"
    }
   ],
   "source": [
    "df.shape"
   ]
  },
  {
   "cell_type": "code",
   "execution_count": 6,
   "id": "f775cdd7",
   "metadata": {},
   "outputs": [
    {
     "data": {
      "text/plain": [
       "Index(['Customer_ID', 'Age', 'Gender', 'Income', 'City', 'Purchase_Amount',\n",
       "       'Purchase_Date', 'Product_Category', 'Loyalty_Status'],\n",
       "      dtype='object')"
      ]
     },
     "execution_count": 6,
     "metadata": {},
     "output_type": "execute_result"
    }
   ],
   "source": [
    "df.columns"
   ]
  },
  {
   "cell_type": "code",
   "execution_count": 7,
   "id": "9b1d14f0",
   "metadata": {},
   "outputs": [
    {
     "name": "stdout",
     "output_type": "stream",
     "text": [
      "<class 'pandas.core.frame.DataFrame'>\n",
      "RangeIndex: 150 entries, 0 to 149\n",
      "Data columns (total 9 columns):\n",
      " #   Column            Non-Null Count  Dtype         \n",
      "---  ------            --------------  -----         \n",
      " 0   Customer_ID       150 non-null    int64         \n",
      " 1   Age               150 non-null    int32         \n",
      " 2   Gender            150 non-null    object        \n",
      " 3   Income            135 non-null    float64       \n",
      " 4   City              150 non-null    object        \n",
      " 5   Purchase_Amount   143 non-null    float64       \n",
      " 6   Purchase_Date     150 non-null    datetime64[ns]\n",
      " 7   Product_Category  150 non-null    object        \n",
      " 8   Loyalty_Status    150 non-null    object        \n",
      "dtypes: datetime64[ns](1), float64(2), int32(1), int64(1), object(4)\n",
      "memory usage: 10.1+ KB\n"
     ]
    }
   ],
   "source": [
    "df.info()"
   ]
  },
  {
   "cell_type": "code",
   "execution_count": 8,
   "id": "4fa4fc37",
   "metadata": {},
   "outputs": [
    {
     "data": {
      "text/html": [
       "<div>\n",
       "<style scoped>\n",
       "    .dataframe tbody tr th:only-of-type {\n",
       "        vertical-align: middle;\n",
       "    }\n",
       "\n",
       "    .dataframe tbody tr th {\n",
       "        vertical-align: top;\n",
       "    }\n",
       "\n",
       "    .dataframe thead th {\n",
       "        text-align: right;\n",
       "    }\n",
       "</style>\n",
       "<table border=\"1\" class=\"dataframe\">\n",
       "  <thead>\n",
       "    <tr style=\"text-align: right;\">\n",
       "      <th></th>\n",
       "      <th>Customer_ID</th>\n",
       "      <th>Age</th>\n",
       "      <th>Income</th>\n",
       "      <th>Purchase_Amount</th>\n",
       "    </tr>\n",
       "  </thead>\n",
       "  <tbody>\n",
       "    <tr>\n",
       "      <th>count</th>\n",
       "      <td>150.000000</td>\n",
       "      <td>150.000000</td>\n",
       "      <td>135.000000</td>\n",
       "      <td>143.000000</td>\n",
       "    </tr>\n",
       "    <tr>\n",
       "      <th>mean</th>\n",
       "      <td>75.500000</td>\n",
       "      <td>42.700000</td>\n",
       "      <td>66309.844444</td>\n",
       "      <td>2814.018811</td>\n",
       "    </tr>\n",
       "    <tr>\n",
       "      <th>std</th>\n",
       "      <td>43.445368</td>\n",
       "      <td>14.970104</td>\n",
       "      <td>28667.671533</td>\n",
       "      <td>1543.348925</td>\n",
       "    </tr>\n",
       "    <tr>\n",
       "      <th>min</th>\n",
       "      <td>1.000000</td>\n",
       "      <td>18.000000</td>\n",
       "      <td>20301.000000</td>\n",
       "      <td>103.650000</td>\n",
       "    </tr>\n",
       "    <tr>\n",
       "      <th>25%</th>\n",
       "      <td>38.250000</td>\n",
       "      <td>31.000000</td>\n",
       "      <td>41425.000000</td>\n",
       "      <td>1632.425000</td>\n",
       "    </tr>\n",
       "    <tr>\n",
       "      <th>50%</th>\n",
       "      <td>75.500000</td>\n",
       "      <td>42.000000</td>\n",
       "      <td>65525.000000</td>\n",
       "      <td>2939.100000</td>\n",
       "    </tr>\n",
       "    <tr>\n",
       "      <th>75%</th>\n",
       "      <td>112.750000</td>\n",
       "      <td>56.000000</td>\n",
       "      <td>90783.000000</td>\n",
       "      <td>4170.345000</td>\n",
       "    </tr>\n",
       "    <tr>\n",
       "      <th>max</th>\n",
       "      <td>150.000000</td>\n",
       "      <td>69.000000</td>\n",
       "      <td>119713.000000</td>\n",
       "      <td>4983.350000</td>\n",
       "    </tr>\n",
       "  </tbody>\n",
       "</table>\n",
       "</div>"
      ],
      "text/plain": [
       "       Customer_ID         Age         Income  Purchase_Amount\n",
       "count   150.000000  150.000000     135.000000       143.000000\n",
       "mean     75.500000   42.700000   66309.844444      2814.018811\n",
       "std      43.445368   14.970104   28667.671533      1543.348925\n",
       "min       1.000000   18.000000   20301.000000       103.650000\n",
       "25%      38.250000   31.000000   41425.000000      1632.425000\n",
       "50%      75.500000   42.000000   65525.000000      2939.100000\n",
       "75%     112.750000   56.000000   90783.000000      4170.345000\n",
       "max     150.000000   69.000000  119713.000000      4983.350000"
      ]
     },
     "execution_count": 8,
     "metadata": {},
     "output_type": "execute_result"
    }
   ],
   "source": [
    "df.describe()"
   ]
  },
  {
   "cell_type": "code",
   "execution_count": 9,
   "id": "8e3a4ded",
   "metadata": {},
   "outputs": [
    {
     "data": {
      "text/plain": [
       "Customer_ID          0\n",
       "Age                  0\n",
       "Gender               0\n",
       "Income              15\n",
       "City                 0\n",
       "Purchase_Amount      7\n",
       "Purchase_Date        0\n",
       "Product_Category     0\n",
       "Loyalty_Status       0\n",
       "dtype: int64"
      ]
     },
     "execution_count": 9,
     "metadata": {},
     "output_type": "execute_result"
    }
   ],
   "source": [
    "df.isna().sum()"
   ]
  },
  {
   "cell_type": "code",
   "execution_count": 10,
   "id": "e234914a",
   "metadata": {},
   "outputs": [
    {
     "data": {
      "text/plain": [
       "15"
      ]
     },
     "execution_count": 10,
     "metadata": {},
     "output_type": "execute_result"
    }
   ],
   "source": [
    "df[\"Income\"].isnull().sum()"
   ]
  },
  {
   "cell_type": "code",
   "execution_count": 11,
   "id": "f5a678da",
   "metadata": {},
   "outputs": [],
   "source": [
    "df[\"Income\"].fillna(df[\"Income\"].median,inplace=True)"
   ]
  },
  {
   "cell_type": "code",
   "execution_count": 12,
   "id": "21c4aa08",
   "metadata": {},
   "outputs": [
    {
     "data": {
      "text/plain": [
       "Customer_ID         0\n",
       "Age                 0\n",
       "Gender              0\n",
       "Income              0\n",
       "City                0\n",
       "Purchase_Amount     7\n",
       "Purchase_Date       0\n",
       "Product_Category    0\n",
       "Loyalty_Status      0\n",
       "dtype: int64"
      ]
     },
     "execution_count": 12,
     "metadata": {},
     "output_type": "execute_result"
    }
   ],
   "source": [
    "df.isnull().sum()"
   ]
  },
  {
   "cell_type": "code",
   "execution_count": 13,
   "id": "31820c83",
   "metadata": {},
   "outputs": [
    {
     "data": {
      "text/plain": [
       "Customer_ID         0\n",
       "Age                 0\n",
       "Gender              0\n",
       "Income              0\n",
       "City                0\n",
       "Purchase_Amount     0\n",
       "Purchase_Date       0\n",
       "Product_Category    0\n",
       "Loyalty_Status      0\n",
       "dtype: int64"
      ]
     },
     "execution_count": 13,
     "metadata": {},
     "output_type": "execute_result"
    }
   ],
   "source": [
    "df[\"Purchase_Amount\"].fillna(df[\"Purchase_Amount\"].mean,inplace=True)\n",
    "df.isnull().sum()"
   ]
  },
  {
   "cell_type": "code",
   "execution_count": 14,
   "id": "3e11f398",
   "metadata": {},
   "outputs": [
    {
     "data": {
      "text/plain": [
       "<Axes: xlabel='Age', ylabel='Count'>"
      ]
     },
     "execution_count": 14,
     "metadata": {},
     "output_type": "execute_result"
    },
    {
     "data": {
      "image/png": "[encoded data removed]",
      "text/plain": [
       "<Figure size 640x480 with 1 Axes>"
      ]
     },
     "metadata": {},
     "output_type": "display_data"
    }
   ],
   "source": [
    "# Age Distribution\n",
    "sns.histplot(df[\"Age\"],kde=True)"
   ]
  },
  {
   "cell_type": "code",
   "execution_count": 15,
   "id": "8cc0413b",
   "metadata": {},
   "outputs": [
    {
     "data": {
      "image/png": "[encoded data removed]",
      "text/plain": [
       "<Figure size 800x500 with 1 Axes>"
      ]
     },
     "metadata": {},
     "output_type": "display_data"
    }
   ],
   "source": [
    "# Bar plot for 'Gender' count\n",
    "plt.figure(figsize=(8, 5))\n",
    "sns.countplot(x='Gender', data=df)\n",
    "plt.title('Gender Distribution')\n",
    "plt.show()"
   ]
  },
  {
   "cell_type": "code",
   "execution_count": 16,
   "id": "88624240",
   "metadata": {},
   "outputs": [
    {
     "name": "stderr",
     "output_type": "stream",
     "text": [
      "C:\\Users\\Admin\\AppData\\Local\\Temp\\ipykernel_2688\\4277794465.py:1: FutureWarning: The default value of numeric_only in DataFrame.corr is deprecated. In a future version, it will default to False. Select only valid columns or specify the value of numeric_only to silence this warning.\n",
      "  sns.heatmap(df.corr(),annot=True)\n"
     ]
    },
    {
     "data": {
      "text/plain": [
       "<Axes: >"
      ]
     },
     "execution_count": 16,
     "metadata": {},
     "output_type": "execute_result"
    },
    {
     "data": {
      "image/png": "[encoded data removed]",
      "text/plain": [
       "<Figure size 640x480 with 2 Axes>"
      ]
     },
     "metadata": {},
     "output_type": "display_data"
    }
   ],
   "source": [
    "sns.heatmap(df.corr(),annot=True)"
   ]
  },
  {
   "cell_type": "code",
   "execution_count": 17,
   "id": "d5be496b",
   "metadata": {},
   "outputs": [
    {
     "name": "stdout",
     "output_type": "stream",
     "text": [
      "Empty DataFrame\n",
      "Columns: []\n",
      "Index: [Chicago, Houston, Los Angeles, New York, Phoenix]\n"
     ]
    },
    {
     "name": "stderr",
     "output_type": "stream",
     "text": [
      "C:\\Users\\Admin\\AppData\\Local\\Temp\\ipykernel_2688\\1821551016.py:2: FutureWarning: The default value of numeric_only in DataFrameGroupBy.mean is deprecated. In a future version, numeric_only will default to False. Either specify numeric_only or select only columns which should be valid for the function.\n",
      "  city_summary = df.groupby('City')[['Income', 'Purchase_Amount']].mean()\n"
     ]
    }
   ],
   "source": [
    "# Group by 'City' and calculate average 'Income' and 'Purchase_Amount'\n",
    "city_summary = df.groupby('City')[['Income', 'Purchase_Amount']].mean()\n",
    "print(city_summary)"
   ]
  },
  {
   "cell_type": "code",
   "execution_count": 18,
   "id": "07909020",
   "metadata": {},
   "outputs": [
    {
     "name": "stdout",
     "output_type": "stream",
     "text": [
      "Silver    42\n",
      "Gold      37\n",
      "None      36\n",
      "Bronze    35\n",
      "Name: Loyalty_Status, dtype: int64\n"
     ]
    }
   ],
   "source": [
    "loyalty_count = df['Loyalty_Status'].value_counts()\n",
    "print(loyalty_count)"
   ]
  },
  {
   "cell_type": "code",
   "execution_count": 19,
   "id": "9bd43864",
   "metadata": {},
   "outputs": [
    {
     "data": {
      "image/png": "[encoded data removed]",
      "text/plain": [
       "<Figure size 1000x600 with 1 Axes>"
      ]
     },
     "metadata": {},
     "output_type": "display_data"
    }
   ],
   "source": [
    "# Count plot of 'Product_Category'\n",
    "plt.figure(figsize=(10, 6))\n",
    "sns.countplot(x='Product_Category', data=df)\n",
    "plt.title('Distribution of Product Categories')\n",
    "plt.show()\n"
   ]
  },
  {
   "cell_type": "code",
   "execution_count": 20,
   "id": "1839b9fd",
   "metadata": {},
   "outputs": [],
   "source": [
    "# Encode 'Gender' and 'Loyalty_Status' to numerical values\n",
    "df['Gender_Encoded'] = df['Gender'].map({'Male': 0, 'Female': 1})\n",
    "df['Loyalty_Status_Encoded'] = df['Loyalty_Status'].map({'Gold': 3, 'Silver': 2, 'Bronze': 1, 'None': 0})"
   ]
  },
  {
   "cell_type": "code",
   "execution_count": null,
   "id": "f5da4384",
   "metadata": {},
   "outputs": [],
   "source": []
  }
 ],
 "metadata": {
  "kernelspec": {
   "display_name": "Python 3 (ipykernel)",
   "language": "python",
   "name": "python3"
  },
  "language_info": {
   "codemirror_mode": {
    "name": "ipython",
    "version": 3
   },
   "file_extension": ".py",
   "mimetype": "text/x-python",
   "name": "python",
   "nbconvert_exporter": "python",
   "pygments_lexer": "ipython3",
   "version": "3.11.5"
  }
 },
 "nbformat": 4,
 "nbformat_minor": 5
}
